{
 "cells": [
  {
   "cell_type": "code",
   "execution_count": null,
   "id": "c62c5a02-0628-4c50-88bb-19a99a85bc75",
   "metadata": {},
   "outputs": [],
   "source": [
    "# | default_exp notebookexample"
   ]
  },
  {
   "cell_type": "code",
   "execution_count": null,
   "id": "9d50bddc-9ed5-4b60-b9cf-6993f3db379b",
   "metadata": {},
   "outputs": [],
   "source": [
    "import numpy as np"
   ]
  },
  {
   "cell_type": "code",
   "execution_count": null,
   "id": "20553b1d-f4b7-466c-a300-f2cee8cba146",
   "metadata": {},
   "outputs": [
    {
     "data": {
      "text/plain": [
       "array([0, 1, 2, 3, 4, 5, 6, 7, 8, 9])"
      ]
     },
     "execution_count": null,
     "metadata": {},
     "output_type": "execute_result"
    }
   ],
   "source": [
    "np.arange(10)"
   ]
  },
  {
   "cell_type": "markdown",
   "id": "6c27f793-dc54-4c4c-be35-2fcd70d23a7c",
   "metadata": {},
   "source": [
    "```{shinylive-python}\n",
    "#| standalone: true\n",
    "\n",
    "from shiny import *\n",
    "\n",
    "app_ui = ui.page_fluid(\n",
    "    ui.input_slider(\"n\", \"N\", 0, 100, 40),\n",
    "    ui.output_text_verbatim(\"txt\"),\n",
    ")\n",
    "\n",
    "def server(input, output, session):\n",
    "    @output\n",
    "    @render.text\n",
    "    def txt():\n",
    "        return f\"The value of n*2 is {input.n() * 2}\"\n",
    "\n",
    "app = App(app_ui, server)\n",
    "\n",
    "```"
   ]
  },
  {
   "cell_type": "code",
   "execution_count": null,
   "id": "6e17e008-c050-47b8-81fc-010e4e5449ea",
   "metadata": {},
   "outputs": [],
   "source": []
  }
 ],
 "metadata": {
  "kernelspec": {
   "display_name": "python3",
   "language": "python",
   "name": "python3"
  }
 },
 "nbformat": 4,
 "nbformat_minor": 5
}
